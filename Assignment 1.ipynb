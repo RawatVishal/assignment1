{
 "cells": [
  {
   "cell_type": "markdown",
   "id": "ea541b94",
   "metadata": {},
   "source": [
    "# Assignment 1\n"
   ]
  },
  {
   "cell_type": "markdown",
   "id": "90734dcb",
   "metadata": {},
   "source": [
    "Answer 1\n",
    "Expressions= * , - , / , +\n",
    "values='hello',-87.8,6"
   ]
  },
  {
   "cell_type": "markdown",
   "id": "97af58d4",
   "metadata": {},
   "source": [
    "Answer 2\n",
    "String = It is a datatype.Anything which is stored between single ,double quotes and triple quotes\n",
    "Variables= are the values which store data and help us to process any operation on it .It stores several data types string,integer,float,complex number "
   ]
  },
  {
   "cell_type": "markdown",
   "id": "0f314c0e",
   "metadata": {},
   "source": [
    "Answer 3\n",
    "The three different data types are \n",
    "1-Numerical data type = it accept integer ,float and complex values like 2595,-655,-2.5959,5+6j \n",
    "2-Dictionary data type= it accept integer,float,string etc with key values like dict={'a':'this','b':'is','c':1 ,'d':'scsjdc'}\n",
    "3-Boolean data type= it accept True and False regarding any condition we can use it conditionals and loops too.\n"
   ]
  },
  {
   "cell_type": "code",
   "execution_count": 5,
   "id": "56c422e3",
   "metadata": {},
   "outputs": [
    {
     "name": "stdout",
     "output_type": "stream",
     "text": [
      "12\n",
      "8\n",
      "20\n",
      "5.0\n",
      "24\n"
     ]
    },
    {
     "data": {
      "text/plain": [
       "True"
      ]
     },
     "execution_count": 5,
     "metadata": {},
     "output_type": "execute_result"
    }
   ],
   "source": [
    "#Answer 4 \n",
    "#Expression contains elements like boolean ,arithmetic values and all logical operator\n",
    "a=10\n",
    "b=2\n",
    "print(a+b)\n",
    "print(a-b)\n",
    "print(a*b)\n",
    "print(a/b)\n",
    "if a<=10:\n",
    "    c=(a+b)*2\n",
    "    print(c)\n",
    "a==10\n",
    "    \n",
    "\n"
   ]
  },
  {
   "cell_type": "markdown",
   "id": "712bca9b",
   "metadata": {},
   "source": [
    "Answer 5\n",
    "Expression contain arithmetic operations,logical operation and boolean operation but anything written as a code is considered as statement so we can say that expression is as subset of statement "
   ]
  },
  {
   "cell_type": "code",
   "execution_count": 6,
   "id": "10842614",
   "metadata": {},
   "outputs": [
    {
     "data": {
      "text/plain": [
       "23"
      ]
     },
     "execution_count": 6,
     "metadata": {},
     "output_type": "execute_result"
    }
   ],
   "source": [
    "#Answer 6\n",
    "bacon=22\n",
    "bacon+1\n"
   ]
  },
  {
   "cell_type": "code",
   "execution_count": 10,
   "id": "6b261bc2",
   "metadata": {},
   "outputs": [
    {
     "name": "stdout",
     "output_type": "stream",
     "text": [
      "sapmspamspam\n",
      "spamspamspam\n"
     ]
    }
   ],
   "source": [
    "#Answer 7\n",
    "a='sapm'+'spamspam'\n",
    "print(a)\n",
    "\n",
    "b='spam'*3\n",
    "print(b)"
   ]
  },
  {
   "cell_type": "markdown",
   "id": "6697b3df",
   "metadata": {},
   "source": [
    "Answer 8\n",
    "we cannot use 100 or any other numerical value to represent a variable but we can use egg as a variable because python cannot accept numbers but it can accept alphanumeric value as a varible name "
   ]
  },
  {
   "cell_type": "code",
   "execution_count": 11,
   "id": "f39675a3",
   "metadata": {},
   "outputs": [
    {
     "name": "stdout",
     "output_type": "stream",
     "text": [
      "595\n",
      "595.292\n",
      "595.292\n"
     ]
    }
   ],
   "source": [
    "#Answer 9\n",
    "a=595.292\n",
    "print(int(a))\n",
    "print(float(a))\n",
    "print(str(a))"
   ]
  },
  {
   "cell_type": "code",
   "execution_count": 14,
   "id": "0b6ffe61",
   "metadata": {},
   "outputs": [
    {
     "data": {
      "text/plain": [
       "'I have Eaten 99 burritos'"
      ]
     },
     "execution_count": 14,
     "metadata": {},
     "output_type": "execute_result"
    }
   ],
   "source": [
    "#Answer10\n",
    "# because we cannot concatenate different data type for this we can use typecasting\n",
    "'I have Eaten '+ str(99) +' burritos'"
   ]
  },
  {
   "cell_type": "code",
   "execution_count": null,
   "id": "9b569486",
   "metadata": {},
   "outputs": [],
   "source": []
  }
 ],
 "metadata": {
  "kernelspec": {
   "display_name": "Python 3 (ipykernel)",
   "language": "python",
   "name": "python3"
  },
  "language_info": {
   "codemirror_mode": {
    "name": "ipython",
    "version": 3
   },
   "file_extension": ".py",
   "mimetype": "text/x-python",
   "name": "python",
   "nbconvert_exporter": "python",
   "pygments_lexer": "ipython3",
   "version": "3.9.7"
  }
 },
 "nbformat": 4,
 "nbformat_minor": 5
}
